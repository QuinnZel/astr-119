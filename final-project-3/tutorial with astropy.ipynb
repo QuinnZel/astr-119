{
 "cells": [
  {
   "cell_type": "markdown",
   "id": "5571c76e",
   "metadata": {},
   "source": [
    "# Importing numpy, sep, matplotlib, and astropy"
   ]
  },
  {
   "cell_type": "code",
   "execution_count": null,
   "id": "7d69af6d",
   "metadata": {},
   "outputs": [],
   "source": [
    "import numpy as np\n",
    "import sep"
   ]
  },
  {
   "cell_type": "code",
   "execution_count": null,
   "id": "7c9641c6",
   "metadata": {},
   "outputs": [],
   "source": [
    "from astropy.io import fits\n",
    "import matplotlib.pyplot as plt\n",
    "from matplotlib import rcParams\n",
    "\n",
    "%matplotlib inline\n",
    "\n",
    "rcParams['figure.figsize'] = [10., 8.]"
   ]
  },
  {
   "cell_type": "markdown",
   "id": "d2058373",
   "metadata": {},
   "source": [
    "# Reading an example FITS file and displaying it"
   ]
  },
  {
   "cell_type": "code",
   "execution_count": null,
   "id": "a0f5ab0c",
   "metadata": {},
   "outputs": [],
   "source": [
    "data = fits.getdata('image.fits')"
   ]
  },
  {
   "cell_type": "code",
   "execution_count": null,
   "id": "d3621bde",
   "metadata": {},
   "outputs": [],
   "source": [
    "m, s = np.mean(data), np.std(data)\n",
    "plt.imshow(data, interpolation='nearest', cmap='gray', vmin=m-s, vmax=m+s, origin='lower')\n",
    "plt.colorbar();\n",
    "plt.savefig('fig1.png')"
   ]
  },
  {
   "cell_type": "markdown",
   "id": "75e1ddde",
   "metadata": {},
   "source": [
    "# Getting the background data of the image (mean and noise)"
   ]
  },
  {
   "cell_type": "code",
   "execution_count": null,
   "id": "80e15b1f",
   "metadata": {},
   "outputs": [],
   "source": [
    "bkg = sep.Background(data)"
   ]
  },
  {
   "cell_type": "code",
   "execution_count": null,
   "id": "653b7c48",
   "metadata": {},
   "outputs": [],
   "source": [
    "print(bkg.globalback)\n",
    "print(bkg.globalrms)"
   ]
  },
  {
   "cell_type": "markdown",
   "id": "d963a358",
   "metadata": {},
   "source": [
    "# Evaluating background as 2-d array like original image"
   ]
  },
  {
   "cell_type": "code",
   "execution_count": null,
   "id": "9544e318",
   "metadata": {},
   "outputs": [],
   "source": [
    "bkg_image = bkg.back()"
   ]
  },
  {
   "cell_type": "markdown",
   "id": "fafda150",
   "metadata": {},
   "source": [
    "# Showing the background"
   ]
  },
  {
   "cell_type": "code",
   "execution_count": null,
   "id": "4f88a203",
   "metadata": {},
   "outputs": [],
   "source": [
    "plt.imshow(bkg_image, interpolation='nearest', cmap='gray', origin='lower')\n",
    "plt.colorbar();\n",
    "plt.savefig('fig2.png')"
   ]
  },
  {
   "cell_type": "markdown",
   "id": "fce97733",
   "metadata": {},
   "source": [
    "# Evaluating background noise as 2-d array like original image"
   ]
  },
  {
   "cell_type": "code",
   "execution_count": null,
   "id": "93d3fd9d",
   "metadata": {},
   "outputs": [],
   "source": [
    "bkg_rms = bkg.rms()"
   ]
  },
  {
   "cell_type": "markdown",
   "id": "18bd2ca2",
   "metadata": {},
   "source": [
    "# Showing the background noise"
   ]
  },
  {
   "cell_type": "code",
   "execution_count": null,
   "id": "5a7adf5d",
   "metadata": {},
   "outputs": [],
   "source": [
    "plt.imshow(bkg_rms, interpolation='nearest', cmap='gray', origin='lower')\n",
    "plt.colorbar();\n",
    "plt.savefig('fig3.png')"
   ]
  },
  {
   "cell_type": "markdown",
   "id": "c27692b8",
   "metadata": {},
   "source": [
    "# Subtracting the background"
   ]
  },
  {
   "cell_type": "code",
   "execution_count": null,
   "id": "d24b0bf0",
   "metadata": {},
   "outputs": [],
   "source": [
    "data_sub = data - bkg"
   ]
  },
  {
   "cell_type": "markdown",
   "id": "68a8560e",
   "metadata": {},
   "source": [
    "# Running object detection now that background is gone"
   ]
  },
  {
   "cell_type": "code",
   "execution_count": null,
   "id": "1f08a4a7",
   "metadata": {},
   "outputs": [],
   "source": [
    "objects = sep.extract(data_sub, 1.5, err=bkg.globalrms)"
   ]
  },
  {
   "cell_type": "markdown",
   "id": "a12c03c7",
   "metadata": {},
   "source": [
    "# How many objects there are"
   ]
  },
  {
   "cell_type": "code",
   "execution_count": null,
   "id": "751b4578",
   "metadata": {},
   "outputs": [],
   "source": [
    "len(objects)"
   ]
  },
  {
   "cell_type": "markdown",
   "id": "1c40a07f",
   "metadata": {},
   "source": [
    "# 'Circling' (ellipsing) the objects in the new background subtracted image"
   ]
  },
  {
   "cell_type": "code",
   "execution_count": null,
   "id": "8ca65ea0",
   "metadata": {},
   "outputs": [],
   "source": [
    "from matplotlib.patches import Ellipse\n",
    "\n",
    "fig, ax = plt.subplots()\n",
    "m, s = np.mean(data_sub), np.std(data_sub)\n",
    "im = ax.imshow(data_sub, interpolation='nearest', cmap='gray',\n",
    "               vmin=m-s, vmax=m+s, origin='lower')\n",
    "\n",
    "for i in range(len(objects)):\n",
    "    e = Ellipse(xy=(objects['x'][i], objects['y'][i]),\n",
    "                width=6*objects['a'][i],\n",
    "                height=6*objects['b'][i],\n",
    "                angle=objects['theta'][i] * 180. / np.pi)\n",
    "    e.set_facecolor('none')\n",
    "    e.set_edgecolor('red')\n",
    "    ax.add_artist(e)\n",
    "plt.savefig('fig4.png')"
   ]
  },
  {
   "cell_type": "markdown",
   "id": "8bd7fd9c",
   "metadata": {},
   "source": [
    "# Showing the available fields"
   ]
  },
  {
   "cell_type": "code",
   "execution_count": null,
   "id": "f43eecbf",
   "metadata": {},
   "outputs": [],
   "source": [
    "objects.dtype.names"
   ]
  },
  {
   "cell_type": "markdown",
   "id": "67a3737c",
   "metadata": {},
   "source": [
    "# Performing circular aperture photometry at locations of each object"
   ]
  },
  {
   "cell_type": "code",
   "execution_count": null,
   "id": "2d363e14",
   "metadata": {},
   "outputs": [],
   "source": [
    "flux, fluxerr, flag = sep.sum_circle(data_sub, objects['x'], objects['y'],\n",
    "                                     3.0, err=bkg.globalrms, gain=1.0)"
   ]
  },
  {
   "cell_type": "markdown",
   "id": "086e69e9",
   "metadata": {},
   "source": [
    "# Showing first 10 object results"
   ]
  },
  {
   "cell_type": "code",
   "execution_count": null,
   "id": "7355fe32",
   "metadata": {},
   "outputs": [],
   "source": [
    "for i in range(10):\n",
    "    print(\"object {:d}: flux = {:f} +/- {:f}\".format(i, flux[i], fluxerr[i]))"
   ]
  }
 ],
 "metadata": {
  "kernelspec": {
   "display_name": "Python 3 (ipykernel)",
   "language": "python",
   "name": "python3"
  },
  "language_info": {
   "codemirror_mode": {
    "name": "ipython",
    "version": 3
   },
   "file_extension": ".py",
   "mimetype": "text/x-python",
   "name": "python",
   "nbconvert_exporter": "python",
   "pygments_lexer": "ipython3",
   "version": "3.9.7"
  }
 },
 "nbformat": 4,
 "nbformat_minor": 5
}
