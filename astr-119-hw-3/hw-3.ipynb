{
 "cells": [
  {
   "cell_type": "code",
   "execution_count": null,
   "id": "d3f987c9",
   "metadata": {},
   "outputs": [],
   "source": [
    "%matplotlib inline\n",
    "import numpy as np\n",
    "import matplotlib.pyplot as plt"
   ]
  },
  {
   "cell_type": "code",
   "execution_count": null,
   "id": "e8abcedd",
   "metadata": {},
   "outputs": [],
   "source": [
    "x = np.linspace(0,2*np.pi,1000)  #array x = [0, 2*pi] inclusive with 1000 values"
   ]
  },
  {
   "cell_type": "code",
   "execution_count": null,
   "id": "a2124458",
   "metadata": {},
   "outputs": [],
   "source": [
    "a = 5.5 * np.cos(2*x) + 5.5                #first function\n",
    "b = 0.02 * np.exp(x)                       #second function\n",
    "c = 0.25 * (x**3) + (0.1*np.sin(10*x))     #third function"
   ]
  },
  {
   "cell_type": "code",
   "execution_count": null,
   "id": "33e878f4",
   "metadata": {},
   "outputs": [],
   "source": [
    "fig = plt.figure(figsize=(6,6))\n",
    "plt.plot(x, a, label=r'$y = \\5.5cos(2x) + 5.5$')  #label to the first line\n",
    "plt.plot(x, b, label=r'$y = \\0.02 * exp(x)$')     #label to the second line\n",
    "plt.plot(x, c, label=r'$y = \\0.25 * x^2 + 0.1sin(10x)$') #label to the third line\n",
    "\n",
    "plt.xlabel(r'$Time\\ in\\ ASTR\\ 119$')             #label x axis          \n",
    "plt.ylabel(r'$Measures\\ of\\ Awesomeness$')       #label y axis           \n",
    "\n",
    "plt.xlim([0,2*np.pi])                            #set x range\n",
    "plt.ylim([-1,10])                                #set y range"
   ]
  }
 ],
 "metadata": {
  "kernelspec": {
   "display_name": "Python 3 (ipykernel)",
   "language": "python",
   "name": "python3"
  },
  "language_info": {
   "codemirror_mode": {
    "name": "ipython",
    "version": 3
   },
   "file_extension": ".py",
   "mimetype": "text/x-python",
   "name": "python",
   "nbconvert_exporter": "python",
   "pygments_lexer": "ipython3",
   "version": "3.10.0"
  }
 },
 "nbformat": 4,
 "nbformat_minor": 5
}
