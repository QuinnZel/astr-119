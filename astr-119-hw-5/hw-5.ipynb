{
 "cells": [
  {
   "cell_type": "code",
   "execution_count": null,
   "id": "4dd0e697",
   "metadata": {},
   "outputs": [],
   "source": [
    "%matplotlib inline\n",
    "import numpy as np\n",
    "import matplotlib.pyplot as plt"
   ]
  },
  {
   "cell_type": "code",
   "execution_count": null,
   "id": "169260ce",
   "metadata": {},
   "outputs": [],
   "source": [
    "def func(x):\n",
    "    a = 2\n",
    "    b = 10\n",
    "    return np.exp(-a*x)*np.cos(b*x)"
   ]
  },
  {
   "cell_type": "code",
   "execution_count": null,
   "id": "fe421e37",
   "metadata": {},
   "outputs": [],
   "source": [
    "def trapezoid_core(f,x,h):\n",
    "    return 0.5*h*(f(x+h) + f(x))"
   ]
  },
  {
   "cell_type": "code",
   "execution_count": null,
   "id": "a2400161",
   "metadata": {},
   "outputs": [],
   "source": [
    "def trapezoid_method(f,a,b,N):\n",
    "\n",
    "    x = np.linspace(a,b,N)\n",
    "    h = x[1]-x[0]\n",
    "   \n",
    "    Fint = 0.0\n",
    "\n",
    "    for i in range(0,len(x)-1,1):\n",
    "        Fint += trapezoid_core(f,x[i],h)\n",
    "\n",
    "    return Fint"
   ]
  },
  {
   "cell_type": "code",
   "execution_count": null,
   "id": "ead34e46",
   "metadata": {},
   "outputs": [],
   "source": [
    "def simpson_core(f,x,h):\n",
    "    return h * ( f(x) + 4*f(x+h) + f(x+2*h))/3."
   ]
  },
  {
   "cell_type": "code",
   "execution_count": null,
   "id": "cfe15fe5",
   "metadata": {},
   "outputs": [],
   "source": [
    "def simpsons_method(f,a,b,N):\n",
    "\n",
    "    x = np.linspace(a,b,N)\n",
    "    h = x[1]-x[0]\n",
    "    \n",
    "    Fint = 0.0\n",
    "    \n",
    "    for i in range(0,len(x)-2,2):\n",
    "        Fint += simpson_core(f,x[i],h)\n",
    "\n",
    "    if((N%2)==0):\n",
    "        Fint += simpson_core(f,x[-2],0.5*h)\n",
    "\n",
    "    return Fint"
   ]
  },
  {
   "cell_type": "code",
   "execution_count": null,
   "id": "523fbe26",
   "metadata": {},
   "outputs": [],
   "source": [
    "def romberg_core(f,a,b,i):\n",
    "\n",
    "    h = b-a\n",
    "\n",
    "    dh = h/2.**(i)\n",
    "\n",
    "    K = h/2.**(i+1)\n",
    "  \n",
    "    M = 0.0\n",
    "    for j in range (2**i):\n",
    "        M += f(a + 0.5*dh + j*dh)\n",
    "\n",
    "    return K*M"
   ]
  },
  {
   "cell_type": "code",
   "execution_count": null,
   "id": "0cff6068",
   "metadata": {},
   "outputs": [],
   "source": [
    "def romberg_integration(f,a,b,tol):\n",
    "  \n",
    "    i = 0\n",
    "  \n",
    "    imax = 1000\n",
    "   \n",
    "    delta = 100.0*np.fabs(tol)\n",
    "\n",
    "    I = np.zeros(imax,dtype=float)\n",
    "  \n",
    "    I[0] = 0.5*(b-a)*(f(a) + f(b))\n",
    "\n",
    "    i += 1\n",
    "    \n",
    "    while(delta>tol):\n",
    "     \n",
    "        I[i] = 0.5*I[i-1] + romberg_core(f,a,b,i)\n",
    "  \n",
    "        delta = np.fabs( (I[i]-I[i-1])/I[i] )\n",
    "        \n",
    "        print(i,I[i],I[i-1],delta)\n",
    "        \n",
    "        if(delta>tol):\n",
    "    \n",
    "            i+=1\n",
    "\n",
    "            if(i>imax):\n",
    "                print(\"Max iterations reached.\")\n",
    "                raise StopIteration( 'Stopping iterations after ',i)\n",
    "\n",
    "    return I[i]\n"
   ]
  },
  {
   "cell_type": "code",
   "execution_count": 9,
   "id": "c82d8add",
   "metadata": {},
   "outputs": [
    {
     "name": "stdout",
     "output_type": "stream",
     "text": [
      "26 0.019194869607236317 0.01919488234392562 6.635465394946495e-07\n"
     ]
    },
    {
     "ename": "NameError",
     "evalue": "name 'Answer' is not defined",
     "output_type": "error",
     "traceback": [
      "\u001b[1;31m---------------------------------------------------------------------------\u001b[0m",
      "\u001b[1;31mNameError\u001b[0m                                 Traceback (most recent call last)",
      "\u001b[1;32m~\\AppData\\Local\\Temp/ipykernel_14308/1367722065.py\u001b[0m in \u001b[0;36m<module>\u001b[1;34m\u001b[0m\n\u001b[0;32m      6\u001b[0m \u001b[0mtolerance\u001b[0m \u001b[1;33m=\u001b[0m \u001b[1;36m1.0e-6\u001b[0m\u001b[1;33m\u001b[0m\u001b[1;33m\u001b[0m\u001b[0m\n\u001b[0;32m      7\u001b[0m \u001b[0mRI\u001b[0m \u001b[1;33m=\u001b[0m \u001b[0mromberg_integration\u001b[0m\u001b[1;33m(\u001b[0m\u001b[0mfunc\u001b[0m\u001b[1;33m,\u001b[0m\u001b[1;36m0\u001b[0m\u001b[1;33m,\u001b[0m\u001b[0mnp\u001b[0m\u001b[1;33m.\u001b[0m\u001b[0mpi\u001b[0m\u001b[1;33m,\u001b[0m\u001b[0mtolerance\u001b[0m\u001b[1;33m)\u001b[0m\u001b[1;33m\u001b[0m\u001b[1;33m\u001b[0m\u001b[0m\n\u001b[1;32m----> 8\u001b[1;33m \u001b[0mprint\u001b[0m\u001b[1;33m(\u001b[0m\u001b[0mRI\u001b[0m\u001b[1;33m,\u001b[0m \u001b[1;33m(\u001b[0m\u001b[0mRI\u001b[0m\u001b[1;33m-\u001b[0m\u001b[0mAnswer\u001b[0m\u001b[1;33m)\u001b[0m \u001b[1;33m/\u001b[0m\u001b[0mAnswer\u001b[0m\u001b[1;33m,\u001b[0m \u001b[0mtolerance\u001b[0m\u001b[1;33m)\u001b[0m\u001b[1;33m\u001b[0m\u001b[1;33m\u001b[0m\u001b[0m\n\u001b[0m",
      "\u001b[1;31mNameError\u001b[0m: name 'Answer' is not defined"
     ]
    }
   ],
   "source": [
    "print(\"Trapezoid\")\n",
    "print(trapezoid_method (func,0,np.pi,10000))\n",
    "print(\"Simpson's Method\")\n",
    "print(simpsons_method(func,0,np.pi,150))\n",
    "print(\"Romberg\")\n",
    "tolerance = 1.0e-6\n",
    "RI = romberg_integration(func,0,np.pi,tolerance)\n",
    "print(RI, (RI-Answer) /Answer, tolerance)"
   ]
  },
  {
   "cell_type": "markdown",
   "id": "fb1491b6",
   "metadata": {},
   "source": [
    "# It took 23 Iterations for Romberg integration to reach specified accuracy"
   ]
  },
  {
   "cell_type": "markdown",
   "id": "c1aca1cf",
   "metadata": {},
   "source": [
    "# It took 10000 Iterations for Trapezoid method to reach specified accuracy"
   ]
  },
  {
   "cell_type": "markdown",
   "id": "95b2978e",
   "metadata": {},
   "source": [
    "# It took 150 Iterations for Simpson's method to reach specified accuracy"
   ]
  }
 ],
 "metadata": {
  "kernelspec": {
   "display_name": "Python 3 (ipykernel)",
   "language": "python",
   "name": "python3"
  },
  "language_info": {
   "codemirror_mode": {
    "name": "ipython",
    "version": 3
   },
   "file_extension": ".py",
   "mimetype": "text/x-python",
   "name": "python",
   "nbconvert_exporter": "python",
   "pygments_lexer": "ipython3",
   "version": "3.9.7"
  }
 },
 "nbformat": 4,
 "nbformat_minor": 5
}
